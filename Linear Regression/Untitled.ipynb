{
 "cells": [
  {
   "cell_type": "markdown",
   "id": "b183b4e4",
   "metadata": {},
   "source": [
    "<img src=\"https://miro.medium.com/v2/resize:fit:1198/1*BtVajQNj29LkVySEWR_4ww.png\" width=500px>\n",
    "Mean Square Error is also called a Cost function.<br>\n",
    "In cost function, the predicted values equation will be (mxi+b)<br>"
   ]
  },
  {
   "cell_type": "markdown",
   "id": "60502544",
   "metadata": {},
   "source": [
    "Gradient descent is an algorithm that finds best fit line in very less number of iteration or in a very efficient way for given training dataset"
   ]
  },
  {
   "cell_type": "code",
   "execution_count": null,
   "id": "673223b3",
   "metadata": {},
   "outputs": [],
   "source": []
  }
 ],
 "metadata": {
  "kernelspec": {
   "display_name": "Python 3 (ipykernel)",
   "language": "python",
   "name": "python3"
  },
  "language_info": {
   "codemirror_mode": {
    "name": "ipython",
    "version": 3
   },
   "file_extension": ".py",
   "mimetype": "text/x-python",
   "name": "python",
   "nbconvert_exporter": "python",
   "pygments_lexer": "ipython3",
   "version": "3.9.6"
  }
 },
 "nbformat": 4,
 "nbformat_minor": 5
}
